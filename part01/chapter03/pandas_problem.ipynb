{
 "cells": [
  {
   "cell_type": "code",
   "execution_count": 10,
   "metadata": {},
   "outputs": [
    {
     "data": {
      "text/plain": [
       "5924"
      ]
     },
     "execution_count": 10,
     "metadata": {},
     "output_type": "execute_result"
    }
   ],
   "source": [
    "import pandas as pd\n",
    "\n",
    "df = pd.read_csv('type1_data1.csv')\n",
    "\n",
    "# 'f5' 컬럼이 0이 아닌 데이터(행)을 구하시오\n",
    "df = df[df['f5'] != 0]\n",
    "\n",
    "# 앞에서 구한 데이터에 'views' 컬럼 결측치를 'views' 컬럼의 최솟값으로 채워주세요.\n",
    "df['views'] = df['views'].fillna(df['views'].min())\n",
    "\n",
    "# 그리고 'views' 컬럼의 중앙값을 계산해 정수를 구하시오.\n",
    "int(df['views'].median())"
   ]
  },
  {
   "cell_type": "code",
   "execution_count": 15,
   "metadata": {},
   "outputs": [
    {
     "data": {
      "text/plain": [
       "'17'"
      ]
     },
     "execution_count": 15,
     "metadata": {},
     "output_type": "execute_result"
    }
   ],
   "source": [
    "import pandas as pd\n",
    "\n",
    "df = pd.read_csv('type1_data1.csv')\n",
    "\n",
    "# 'subscribed' 컬럼에서 가장 빈도수가 많은 날짜를 구하시오\n",
    "mode_date = df['subscribed'].mode()[0]\n",
    "\n",
    "# 앞에서 구한 날짜의 일(day) 값을 정수로 구하시오.\n",
    "mode_date.split('-')[-1]"
   ]
  },
  {
   "cell_type": "code",
   "execution_count": 42,
   "metadata": {},
   "outputs": [
    {
     "data": {
      "text/plain": [
       "22"
      ]
     },
     "execution_count": 42,
     "metadata": {},
     "output_type": "execute_result"
    }
   ],
   "source": [
    "import pandas as pd\n",
    "\n",
    "df = pd.read_csv('type1_data1.csv')\n",
    "\n",
    "# 결측치가 있는 데이터(행)을 제거하시오.\n",
    "df = df.dropna()\n",
    "\n",
    "# 'views' 컬럼을 'f1' 컬럼으로 나눈 값을 새로운 컬럼으로 추가하시오.\n",
    "df['new_col'] = df['views'] / df['f1']\n",
    "\n",
    "# 새로운 컬럼 값 중 가장 큰 값을 가진 행의 age를 정수로 구하시오.\n",
    "df = df.sort_values('new_col', ascending=False)\n",
    "int(df.iloc[0, 1])"
   ]
  },
  {
   "cell_type": "code",
   "execution_count": 70,
   "metadata": {},
   "outputs": [
    {
     "name": "stderr",
     "output_type": "stream",
     "text": [
      "C:\\Users\\ehdgu\\AppData\\Local\\Temp\\ipykernel_18296\\2193481407.py:5: FutureWarning: A value is trying to be set on a copy of a DataFrame or Series through chained assignment using an inplace method.\n",
      "The behavior will change in pandas 3.0. This inplace method will never work because the intermediate object on which we are setting values always behaves as a copy.\n",
      "\n",
      "For example, when doing 'df[col].method(value, inplace=True)', try using 'df.method({col: value}, inplace=True)' or df[col] = df[col].method(value) instead, to perform the operation inplace on the original object.\n",
      "\n",
      "\n",
      "  df['views'].fillna(0, inplace=True)\n",
      "C:\\Users\\ehdgu\\AppData\\Local\\Temp\\ipykernel_18296\\2193481407.py:12: FutureWarning: ChainedAssignmentError: behaviour will change in pandas 3.0!\n",
      "You are setting values through chained assignment. Currently this works in certain cases, but when using Copy-on-Write (which will become the default behaviour in pandas 3.0) this will never work to update the original DataFrame or Series, because the intermediate object on which we are setting values will behave as a copy.\n",
      "A typical example is when you are setting values in a column of a DataFrame, like:\n",
      "\n",
      "df[\"col\"][row_indexer] = value\n",
      "\n",
      "Use `df.loc[row_indexer, \"col\"] = values` instead, to perform the assignment in a single step and ensure this keeps updating the original `df`.\n",
      "\n",
      "See the caveats in the documentation: https://pandas.pydata.org/pandas-docs/stable/user_guide/indexing.html#returning-a-view-versus-a-copy\n",
      "\n",
      "  df['views'].iloc[:10] = val\n",
      "C:\\Users\\ehdgu\\AppData\\Local\\Temp\\ipykernel_18296\\2193481407.py:12: SettingWithCopyWarning: \n",
      "A value is trying to be set on a copy of a slice from a DataFrame\n",
      "\n",
      "See the caveats in the documentation: https://pandas.pydata.org/pandas-docs/stable/user_guide/indexing.html#returning-a-view-versus-a-copy\n",
      "  df['views'].iloc[:10] = val\n"
     ]
    },
    {
     "data": {
      "text/plain": [
       "652812"
      ]
     },
     "execution_count": 70,
     "metadata": {},
     "output_type": "execute_result"
    }
   ],
   "source": [
    "import pandas as pd\n",
    "df = pd.read_csv('type1_data1.csv')\n",
    "\n",
    "# 'views' 컬럼의 결측 데이터를 0으로 대체하시오.\n",
    "df['views'].fillna(0, inplace=True)\n",
    "\n",
    "# 'views' 컬럼에서 상위 10번째 값을 구하시오.\n",
    "df = df.sort_values('views', ascending=False)\n",
    "val = df.iloc[9, -1]\n",
    "\n",
    "# 'views' 컬럼에서 상위 10개의 값을 상위 10번째 값으로 대체하시오.\n",
    "df['views'].iloc[:10] = val\n",
    "int(df['views'].sum())"
   ]
  },
  {
   "cell_type": "code",
   "execution_count": 81,
   "metadata": {},
   "outputs": [
    {
     "data": {
      "text/plain": [
       "0.61"
      ]
     },
     "execution_count": 81,
     "metadata": {},
     "output_type": "execute_result"
    }
   ],
   "source": [
    "import pandas as pd\n",
    "df = pd.read_csv('type1_data1.csv')\n",
    "\n",
    "df = df[df['f4'].apply(lambda x:x.find('FJ') != -1)]\n",
    "round(df['f2'].mean(), 2)"
   ]
  },
  {
   "cell_type": "code",
   "execution_count": 92,
   "metadata": {},
   "outputs": [
    {
     "data": {
      "text/plain": [
       "235.43"
      ]
     },
     "execution_count": 92,
     "metadata": {},
     "output_type": "execute_result"
    }
   ],
   "source": [
    "import pandas as pd\n",
    "\n",
    "df = pd.read_csv('type1_data1.csv')\n",
    "\n",
    "round(df[(df['f3'] == 'gold') & (df['f2'] == 2)]['f1'].var(), 2)"
   ]
  },
  {
   "cell_type": "code",
   "execution_count": 103,
   "metadata": {},
   "outputs": [
    {
     "name": "stdout",
     "output_type": "stream",
     "text": [
      "263.13\n"
     ]
    }
   ],
   "source": [
    "import pandas as pd\n",
    "\n",
    "df = pd.read_csv('type1_data1.csv')\n",
    "\n",
    "df['age'] = df['age']+1\n",
    "print(round(abs(df[(df['age'] >= 20) & (df['age'] < 30)]['views'].mean() - df[(df['age'] >= 30) & (df['age'] < 40)]['views'].mean()), 2))\n"
   ]
  },
  {
   "cell_type": "code",
   "execution_count": 110,
   "metadata": {},
   "outputs": [
    {
     "data": {
      "text/plain": [
       "5"
      ]
     },
     "execution_count": 110,
     "metadata": {},
     "output_type": "execute_result"
    }
   ],
   "source": [
    "import pandas as pd\n",
    "\n",
    "df = pd.read_csv('type1_data1.csv')\n",
    "\n",
    "df = df[df['subscribed'].str.contains('2024-02')]\n",
    "len(df[df['f3'] == 'gold'])"
   ]
  },
  {
   "cell_type": "code",
   "execution_count": 123,
   "metadata": {},
   "outputs": [
    {
     "data": {
      "text/plain": [
       "'ISFJ'"
      ]
     },
     "execution_count": 123,
     "metadata": {},
     "output_type": "execute_result"
    }
   ],
   "source": [
    "import pandas as pd\n",
    "\n",
    "df = pd.read_csv('type1_data1.csv')\n",
    "df = df[df['views'] <= 1000]\n",
    "df['f4'].mode()[0]"
   ]
  },
  {
   "cell_type": "code",
   "execution_count": 143,
   "metadata": {},
   "outputs": [
    {
     "data": {
      "text/plain": [
       "'서울'"
      ]
     },
     "execution_count": 143,
     "metadata": {},
     "output_type": "execute_result"
    }
   ],
   "source": [
    "import pandas as pd\n",
    "\n",
    "df = pd.read_csv('type1_data1.csv')\n",
    "df = df.dropna()\n",
    "# help(df.groupby)\n",
    "df = df.groupby(['city']).mean(numeric_only = True)\n",
    "df.sort_values('f2', ascending=False).index[0]"
   ]
  },
  {
   "cell_type": "code",
   "execution_count": null,
   "metadata": {},
   "outputs": [
    {
     "name": "stdout",
     "output_type": "stream",
     "text": [
      "8628.0 5857.0\n",
      "2771\n"
     ]
    }
   ],
   "source": [
    "import pandas as pd\n",
    "\n",
    "df = pd.read_csv('type1_data1.csv')\n",
    "df.dropna(inplace=True)\n",
    "df = df.iloc[:int(len(df)*0.7), :]\n",
    "int(df['views'].quantile(.75) - df['views'].quantile(.25))"
   ]
  },
  {
   "cell_type": "code",
   "execution_count": 165,
   "metadata": {},
   "outputs": [
    {
     "data": {
      "text/plain": [
       "63"
      ]
     },
     "execution_count": 165,
     "metadata": {},
     "output_type": "execute_result"
    }
   ],
   "source": [
    "import pandas as pd\n",
    "\n",
    "df = pd.read_csv('type1_data1.csv')\n",
    "# df.isnull().sum() # f1, f3\n",
    "\n",
    "df = df.dropna(subset = ['f1'])\n",
    "df['f3'] = df['f3'].fillna(df['f3'].mode()[0])\n",
    "len(df[df['f3'] == 'gold'])\n"
   ]
  },
  {
   "cell_type": "code",
   "execution_count": 169,
   "metadata": {},
   "outputs": [
    {
     "data": {
      "text/plain": [
       "53.6"
      ]
     },
     "execution_count": 169,
     "metadata": {},
     "output_type": "execute_result"
    }
   ],
   "source": [
    "import pandas as pd\n",
    "\n",
    "df = pd.read_csv('type1_data1.csv')\n",
    "round(df[df['f1'].isnull()]['age'].mean(), 1)"
   ]
  },
  {
   "cell_type": "code",
   "execution_count": 173,
   "metadata": {},
   "outputs": [
    {
     "data": {
      "text/plain": [
       "167"
      ]
     },
     "execution_count": 173,
     "metadata": {},
     "output_type": "execute_result"
    }
   ],
   "source": [
    "import pandas as pd\n",
    "\n",
    "df = pd.read_csv('type1_data1.csv')\n",
    "df.drop_duplicates(inplace=True)\n",
    "\n",
    "def fun(x):\n",
    "  if x == 'silver':\n",
    "    return 1\n",
    "  elif x == 'gold':\n",
    "    return 2\n",
    "  elif x == 'vip':\n",
    "    return 3\n",
    "  else:\n",
    "    return 0\n",
    "  \n",
    "df['f3'] = df['f3'].apply(fun)\n",
    "df['f3'].sum()\n"
   ]
  },
  {
   "cell_type": "code",
   "execution_count": 197,
   "metadata": {},
   "outputs": [
    {
     "data": {
      "text/plain": [
       "88"
      ]
     },
     "execution_count": 197,
     "metadata": {},
     "output_type": "execute_result"
    }
   ],
   "source": [
    "import pandas as pd\n",
    "\n",
    "df = pd.read_csv('type1_data1.csv')\n",
    "o_col = df.columns[df.dtypes == 'O']\n",
    "df = df.drop(o_col, axis = 1)\n",
    "df.fillna(0, inplace = True)\n",
    "\n",
    "len(df[df['age']+df['f1']+df['f2']+df['f5']+df['views'] > 3000])\n"
   ]
  },
  {
   "cell_type": "code",
   "execution_count": 200,
   "metadata": {},
   "outputs": [
    {
     "data": {
      "text/plain": [
       "77699.0"
      ]
     },
     "execution_count": 200,
     "metadata": {},
     "output_type": "execute_result"
    }
   ],
   "source": [
    "import pandas as pd\n",
    "\n",
    "df = pd.read_csv('type1_data1.csv')\n",
    "\n",
    "q1 = df['views'].quantile(.25)\n",
    "q3 = df['views'].quantile(.75)\n",
    "iqr = q3-q1\n",
    "\n",
    "df[(df['views'] < q1 - (iqr * 1.5)) | (df['views'] > q3 + (iqr * 1.5))]['views'].sum()"
   ]
  },
  {
   "cell_type": "code",
   "execution_count": 220,
   "metadata": {},
   "outputs": [
    {
     "data": {
      "text/plain": [
       "8297.31"
      ]
     },
     "execution_count": 220,
     "metadata": {},
     "output_type": "execute_result"
    }
   ],
   "source": [
    "import pandas as pd\n",
    "\n",
    "df = pd.read_csv('type1_data1.csv')\n",
    "a = df['views'].std()\n",
    "\n",
    "df = df[df['age'] > 0]\n",
    "df = df[df['age'] == round(df['age'], 0)]\n",
    "\n",
    "b = df['views'].std()\n",
    "\n",
    "round(a+b, 2)"
   ]
  },
  {
   "cell_type": "code",
   "execution_count": 234,
   "metadata": {},
   "outputs": [
    {
     "data": {
      "text/plain": [
       "202"
      ]
     },
     "execution_count": 234,
     "metadata": {},
     "output_type": "execute_result"
    }
   ],
   "source": [
    "import pandas as pd\n",
    "\n",
    "df = pd.read_csv('type1_data2.csv', index_col = 'year')\n",
    "# df.loc[2001].mean()\n",
    "a = len(df.loc[2001][df.loc[2001] > df.loc[2001].mean()])\n",
    "b = len(df.loc[2003][df.loc[2003] < df.loc[2003].mean()])\n",
    "\n",
    "a+b"
   ]
  },
  {
   "cell_type": "code",
   "execution_count": 246,
   "metadata": {},
   "outputs": [
    {
     "data": {
      "text/plain": [
       "'경기'"
      ]
     },
     "execution_count": 246,
     "metadata": {},
     "output_type": "execute_result"
    }
   ],
   "source": [
    "import pandas as pd\n",
    "\n",
    "df = pd.read_csv('type1_data1.csv')\n",
    "\n",
    "df = df.bfill()\n",
    "df = df.groupby(['city', 'f2']).sum()\n",
    "df.sort_values('views', ascending = False).index[2][0]"
   ]
  },
  {
   "cell_type": "code",
   "execution_count": 258,
   "metadata": {},
   "outputs": [
    {
     "data": {
      "text/plain": [
       "11"
      ]
     },
     "execution_count": 258,
     "metadata": {},
     "output_type": "execute_result"
    }
   ],
   "source": [
    "import pandas as pd\n",
    "\n",
    "df = pd.read_csv('type1_data1.csv')\n",
    "# df.sort_values('subscribed')\n",
    "df['subscribed'] = pd.to_datetime(df['subscribed'])\n",
    "df['month'] = df['subscribed'].dt.month\n",
    "df = df.groupby(['month']).sum(numeric_only=True)\n",
    "df.sort_values('views').index[0]"
   ]
  },
  {
   "cell_type": "code",
   "execution_count": 267,
   "metadata": {},
   "outputs": [
    {
     "data": {
      "text/plain": [
       "311"
      ]
     },
     "execution_count": 267,
     "metadata": {},
     "output_type": "execute_result"
    }
   ],
   "source": [
    "import pandas as pd\n",
    "\n",
    "df = pd.read_csv('delivery_time.csv')\n",
    "df['실제도착시간'] = pd.to_datetime(df['실제도착시간'])\n",
    "df['예상도착시간'] = pd.to_datetime(df['예상도착시간'])\n",
    "df = df[df['예상도착시간'] < df['실제도착시간']]\n",
    "len(df[df['거리'] >= 7])"
   ]
  },
  {
   "cell_type": "code",
   "execution_count": 21,
   "metadata": {},
   "outputs": [
    {
     "data": {
      "text/plain": [
       "62"
      ]
     },
     "execution_count": 21,
     "metadata": {},
     "output_type": "execute_result"
    }
   ],
   "source": [
    "import pandas as pd\n",
    "\n",
    "df = pd.read_csv('delivery_time.csv')\n",
    "# df['주문시간'] = df['주문시간'].pd.to_datetime\n",
    "df['주문시간'] = pd.to_datetime(df['주문시간'])\n",
    "df['실제도착시간'] = pd.to_datetime(df['실제도착시간'])\n",
    "\n",
    "df['diff'] = (df['실제도착시간']-df['주문시간']).dt.total_seconds()/60\n",
    "int(round(df.groupby(['앱종류']).mean(numeric_only=True)['diff'].min(), 0))"
   ]
  },
  {
   "cell_type": "code",
   "execution_count": 32,
   "metadata": {},
   "outputs": [
    {
     "data": {
      "text/plain": [
       "0.56"
      ]
     },
     "execution_count": 32,
     "metadata": {},
     "output_type": "execute_result"
    }
   ],
   "source": [
    "import pandas as pd\n",
    "\n",
    "df = pd.read_csv('delivery_time.csv')\n",
    "df['실제도착시간'] = pd.to_datetime(df['실제도착시간'])\n",
    "df['예상도착시간'] = pd.to_datetime(df['예상도착시간'])\n",
    "\n",
    "df['늦음'] = df['실제도착시간'] > df['예상도착시간']\n",
    "df['늦지않음'] = df['실제도착시간'] <= df['예상도착시간']\n",
    "\n",
    "df = df.groupby(['결제종류']).sum(numeric_only=True)\n",
    "round((df['늦음'] / (df['늦음']+df['늦지않음'])).max(), 2)"
   ]
  },
  {
   "cell_type": "code",
   "execution_count": 56,
   "metadata": {},
   "outputs": [
    {
     "data": {
      "text/plain": [
       "48"
      ]
     },
     "execution_count": 56,
     "metadata": {},
     "output_type": "execute_result"
    }
   ],
   "source": [
    "import pandas as pd\n",
    "\n",
    "df = pd.read_csv('delivery_time.csv')\n",
    "df1 = df.groupby(['user']).sum(numeric_only = True)\n",
    "users = df1[df1['거리'] >= 50].index\n",
    "df[df['user'].isin(users)]['결제종류'].value_counts().iloc[0]"
   ]
  },
  {
   "cell_type": "code",
   "execution_count": 126,
   "metadata": {},
   "outputs": [
    {
     "data": {
      "text/plain": [
       "146"
      ]
     },
     "execution_count": 126,
     "metadata": {},
     "output_type": "execute_result"
    }
   ],
   "source": [
    "import pandas as pd\n",
    "\n",
    "df = pd.read_csv('delivery_time.csv')\n",
    "df['주문시간'] = pd.to_datetime(df['주문시간'])\n",
    "df = (df.groupby('user')['주문시간'].max() - df.groupby('user')['주문시간'].min()).dt.days\n",
    "\n",
    "df = df[df.apply(lambda x:x>0)]\n",
    "avg = df.mean()\n",
    "\n",
    "len(df[df.apply(lambda x:x>avg)])\n"
   ]
  },
  {
   "cell_type": "code",
   "execution_count": 142,
   "metadata": {},
   "outputs": [
    {
     "data": {
      "text/plain": [
       "0.31"
      ]
     },
     "execution_count": 142,
     "metadata": {},
     "output_type": "execute_result"
    }
   ],
   "source": [
    "import pandas as pd\n",
    "\n",
    "df = pd.read_csv('delivery_time.csv')\n",
    "df['주문시간'] = pd.to_datetime(df['주문시간'])\n",
    "\n",
    "# df['주문시간'].dt.to_period('M').mode()[0]\n",
    "df['연-월'] = df['주문시간'].dt.to_period('M')\n",
    "df = df[df['연-월'] == df['주문시간'].dt.to_period('M').mode()[0]]\n",
    "# (df['결제종류'] == '앱결제') & (df['앱종류'] == '배고팡')\n",
    "# len(df[(df['앱종류'] == '배고팡')]) # 32\n",
    "\n",
    "df = df[(df['앱종류'] == '배고팡')]\n",
    "len(df[df['결제종류'] == '앱결제']) # 10\n",
    "\n",
    "round(10/32, 2)"
   ]
  },
  {
   "cell_type": "code",
   "execution_count": 172,
   "metadata": {},
   "outputs": [
    {
     "data": {
      "text/plain": [
       "1"
      ]
     },
     "execution_count": 172,
     "metadata": {},
     "output_type": "execute_result"
    }
   ],
   "source": [
    "import pandas as pd\n",
    "\n",
    "df = pd.read_csv('delivery_time.csv')\n",
    "df['주문시간'] = pd.to_datetime(df['주문시간'])\n",
    "df = df[(df['주문시간'].dt.hour >= 10) & (df['주문시간'].dt.hour < 13)]\n",
    "\n",
    "df['실제도착시간'] = pd.to_datetime(df['실제도착시간'])\n",
    "df['시간'] = (df['실제도착시간'] - df['주문시간']).dt.total_seconds()/60/60\n",
    "df['속도'] = df['거리'] / df['시간']\n",
    "len(df[df['속도'] >= 50])\n"
   ]
  },
  {
   "cell_type": "code",
   "execution_count": 188,
   "metadata": {},
   "outputs": [
    {
     "data": {
      "text/plain": [
       "'202209'"
      ]
     },
     "execution_count": 188,
     "metadata": {},
     "output_type": "execute_result"
    }
   ],
   "source": [
    "import pandas as pd\n",
    "\n",
    "df = pd.read_csv('delivery_time.csv')\n",
    "df['주문시간'] = pd.to_datetime(df['주문시간'])\n",
    "df['주문연도월'] = df['주문시간'].dt.to_period('M')\n",
    "df = df.groupby('주문연도월').size()\n",
    "str(df.idxmax()).replace('-','')"
   ]
  },
  {
   "cell_type": "code",
   "execution_count": 198,
   "metadata": {},
   "outputs": [
    {
     "data": {
      "text/plain": [
       "448000"
      ]
     },
     "execution_count": 198,
     "metadata": {},
     "output_type": "execute_result"
    }
   ],
   "source": [
    "import pandas as pd\n",
    "\n",
    "df = pd.read_csv('delivery_time.csv')\n",
    "\n",
    "def fun(x):\n",
    "  if x < 5: return 2000\n",
    "  elif x < 10: return 4000\n",
    "  elif x < 15: return 6000\n",
    "  else: return 8000\n",
    "\n",
    "df['배달료'] = df['거리'].apply(fun)\n",
    "\n",
    "df['주문시간'] = pd.to_datetime(df['주문시간'])\n",
    "df['주문월'] = df['주문시간'].dt.month\n",
    "df = df.groupby('주문월')['배달료'].sum()\n",
    "df[df.idxmax()]"
   ]
  },
  {
   "cell_type": "code",
   "execution_count": 205,
   "metadata": {},
   "outputs": [
    {
     "data": {
      "text/plain": [
       "412"
      ]
     },
     "execution_count": 205,
     "metadata": {},
     "output_type": "execute_result"
    }
   ],
   "source": [
    "import pandas as pd\n",
    "\n",
    "df = pd.read_csv('delivery_time.csv')\n",
    "df['주문시간'] = pd.to_datetime(df['주문시간'])\n",
    "\n",
    "df['요일'] = df['주문시간'].dt.dayofweek\n",
    "df = df.groupby('요일').size()\n",
    "\n",
    "abs((df.loc[0]+df.loc[1]+df.loc[2]+df.loc[3]+df.loc[4]) - (df.loc[5]+df.loc[6]))"
   ]
  },
  {
   "cell_type": "code",
   "execution_count": 219,
   "metadata": {},
   "outputs": [
    {
     "data": {
      "text/plain": [
       "261387"
      ]
     },
     "execution_count": 219,
     "metadata": {},
     "output_type": "execute_result"
    }
   ],
   "source": [
    "import pandas as pd\n",
    "\n",
    "df = pd.read_csv('delivery_time.csv')\n",
    "df['user'] = df['user'].apply(lambda x:x.split('_')[1])\n",
    "df['user'] = df['user'].astype(int)\n",
    "df['user'].sum()"
   ]
  },
  {
   "cell_type": "code",
   "execution_count": 226,
   "metadata": {},
   "outputs": [
    {
     "data": {
      "text/plain": [
       "82"
      ]
     },
     "execution_count": 226,
     "metadata": {},
     "output_type": "execute_result"
    }
   ],
   "source": [
    "import pandas as pd\n",
    "\n",
    "df = pd.read_csv('school_data.csv')\n",
    "df['총합'] = df['수학']+df['영어']+df['국어']\n",
    "df = df.sort_values('총합', ascending=False)\n",
    "int(round(df.iloc[:10]['수학'].mean(), 0))"
   ]
  },
  {
   "cell_type": "code",
   "execution_count": 234,
   "metadata": {},
   "outputs": [
    {
     "data": {
      "text/plain": [
       "420"
      ]
     },
     "execution_count": 234,
     "metadata": {},
     "output_type": "execute_result"
    }
   ],
   "source": [
    "import pandas as pd\n",
    "\n",
    "df = pd.read_csv('school_data.csv')\n",
    "a = list(df['수학'])+list(df['영어'])+list(df['국어'])\n",
    "a.sort()\n",
    "sum(a[:25])"
   ]
  },
  {
   "cell_type": "code",
   "execution_count": 248,
   "metadata": {},
   "outputs": [
    {
     "data": {
      "text/plain": [
       "9"
      ]
     },
     "execution_count": 248,
     "metadata": {},
     "output_type": "execute_result"
    }
   ],
   "source": [
    "import pandas as pd\n",
    "df = pd.read_csv('school_data.csv')\n",
    "df_science = pd.read_csv('school_data_science.csv')\n",
    "\n",
    "df = pd.concat([df, df_science], axis=1)\n",
    "df['평균'] = (df['수학']+df['국어']+df['영어']+df['과학']) / 4\n",
    "len(df[df['평균'] >= 60])\n"
   ]
  },
  {
   "cell_type": "code",
   "execution_count": 256,
   "metadata": {},
   "outputs": [
    {
     "data": {
      "text/plain": [
       "602"
      ]
     },
     "execution_count": 256,
     "metadata": {},
     "output_type": "execute_result"
    }
   ],
   "source": [
    "import pandas as pd\n",
    "df = pd.read_csv('school_data.csv')\n",
    "df_social = pd.read_csv('school_data_social.csv')\n",
    "\n",
    "df = pd.merge(df, df_social, on = '이름')\n",
    "df = df[(df['영어교사'] == '장선생') & (df['사회교사'] == '오선생')]\n",
    "df['수학'].sum()"
   ]
  }
 ],
 "metadata": {
  "kernelspec": {
   "display_name": "workspace",
   "language": "python",
   "name": "python3"
  },
  "language_info": {
   "codemirror_mode": {
    "name": "ipython",
    "version": 3
   },
   "file_extension": ".py",
   "mimetype": "text/x-python",
   "name": "python",
   "nbconvert_exporter": "python",
   "pygments_lexer": "ipython3",
   "version": "3.12.3"
  }
 },
 "nbformat": 4,
 "nbformat_minor": 2
}
