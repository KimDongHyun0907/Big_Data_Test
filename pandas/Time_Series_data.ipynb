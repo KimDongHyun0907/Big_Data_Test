{
 "cells": [
  {
   "cell_type": "code",
   "execution_count": 2,
   "metadata": {},
   "outputs": [],
   "source": [
    "import pandas as pd\n",
    "\n",
    "data = {\n",
    "  'Date1' : ['2024-02-17', '2024-02-18', '2024-02-19', '2024-02-20'],\n",
    "  'Date2' : ['2024:02:17', '2024:02:18', '2024:02:19', '2024:02:20'],\n",
    "  'Date3' : ['24/02/17', '24/02/18', '24/02/19', '24/02/20'],\n",
    "  'Date4' : ['02/17/2024', '02/18/2024', '02/19/2024', '02/20/2024'],\n",
    "  'Date5' : ['17-Feb-2024', '18-Feb-2024', '19-Feb-2024', '20-Feb-2024'],\n",
    "  'DateTime1' : ['24-02-17 13:50:30', '24-02-18 14:55:45', '24-02-19 15:30:15', '24-02-20 16:10:50'],\n",
    "  'DateTime2' : ['2024-02-17 13-50-30', '2024-02-18 14-55-45', '2024-02-19 15-30-15', '2024-02-20 16-10-50'],\n",
    "  'DateTime3' : ['02/17/2024 01:50:30 PM', '02/18/2024 02:55:45 PM', '02/19/2024 03:30:15 AM', '02/20/2024 04:10:50 AM'],\n",
    "  'DateTime4' : ['17 Feb 2024 13:50:30', '18 Feb 2024 14:55:45', '19 Feb 2024 15:30:15', '20 Feb 2024 16:10:50'],\n",
    "}"
   ]
  },
  {
   "cell_type": "code",
   "execution_count": 3,
   "metadata": {},
   "outputs": [
    {
     "data": {
      "text/html": [
       "<div>\n",
       "<style scoped>\n",
       "    .dataframe tbody tr th:only-of-type {\n",
       "        vertical-align: middle;\n",
       "    }\n",
       "\n",
       "    .dataframe tbody tr th {\n",
       "        vertical-align: top;\n",
       "    }\n",
       "\n",
       "    .dataframe thead th {\n",
       "        text-align: right;\n",
       "    }\n",
       "</style>\n",
       "<table border=\"1\" class=\"dataframe\">\n",
       "  <thead>\n",
       "    <tr style=\"text-align: right;\">\n",
       "      <th></th>\n",
       "      <th>Date1</th>\n",
       "      <th>Date2</th>\n",
       "      <th>Date3</th>\n",
       "      <th>Date4</th>\n",
       "      <th>Date5</th>\n",
       "      <th>DateTime1</th>\n",
       "      <th>DateTime2</th>\n",
       "      <th>DateTime3</th>\n",
       "      <th>DateTime4</th>\n",
       "    </tr>\n",
       "  </thead>\n",
       "  <tbody>\n",
       "    <tr>\n",
       "      <th>0</th>\n",
       "      <td>2024-02-17</td>\n",
       "      <td>2024:02:17</td>\n",
       "      <td>24/02/17</td>\n",
       "      <td>02/17/2024</td>\n",
       "      <td>17-Feb-2024</td>\n",
       "      <td>24-02-17 13:50:30</td>\n",
       "      <td>2024-02-17 13-50-30</td>\n",
       "      <td>02/17/2024 01:50:30 PM</td>\n",
       "      <td>17 Feb 2024 13:50:30</td>\n",
       "    </tr>\n",
       "    <tr>\n",
       "      <th>1</th>\n",
       "      <td>2024-02-18</td>\n",
       "      <td>2024:02:18</td>\n",
       "      <td>24/02/18</td>\n",
       "      <td>02/18/2024</td>\n",
       "      <td>18-Feb-2024</td>\n",
       "      <td>24-02-18 14:55:45</td>\n",
       "      <td>2024-02-18 14-55-45</td>\n",
       "      <td>02/18/2024 02:55:45 PM</td>\n",
       "      <td>18 Feb 2024 14:55:45</td>\n",
       "    </tr>\n",
       "    <tr>\n",
       "      <th>2</th>\n",
       "      <td>2024-02-19</td>\n",
       "      <td>2024:02:19</td>\n",
       "      <td>24/02/19</td>\n",
       "      <td>02/19/2024</td>\n",
       "      <td>19-Feb-2024</td>\n",
       "      <td>24-02-19 15:30:15</td>\n",
       "      <td>2024-02-19 15-30-15</td>\n",
       "      <td>02/19/2024 03:30:15 AM</td>\n",
       "      <td>19 Feb 2024 15:30:15</td>\n",
       "    </tr>\n",
       "    <tr>\n",
       "      <th>3</th>\n",
       "      <td>2024-02-20</td>\n",
       "      <td>2024:02:20</td>\n",
       "      <td>24/02/20</td>\n",
       "      <td>02/20/2024</td>\n",
       "      <td>20-Feb-2024</td>\n",
       "      <td>24-02-20 16:10:50</td>\n",
       "      <td>2024-02-20 16-10-50</td>\n",
       "      <td>02/20/2024 04:10:50 AM</td>\n",
       "      <td>20 Feb 2024 16:10:50</td>\n",
       "    </tr>\n",
       "  </tbody>\n",
       "</table>\n",
       "</div>"
      ],
      "text/plain": [
       "        Date1       Date2     Date3       Date4        Date5  \\\n",
       "0  2024-02-17  2024:02:17  24/02/17  02/17/2024  17-Feb-2024   \n",
       "1  2024-02-18  2024:02:18  24/02/18  02/18/2024  18-Feb-2024   \n",
       "2  2024-02-19  2024:02:19  24/02/19  02/19/2024  19-Feb-2024   \n",
       "3  2024-02-20  2024:02:20  24/02/20  02/20/2024  20-Feb-2024   \n",
       "\n",
       "           DateTime1            DateTime2               DateTime3  \\\n",
       "0  24-02-17 13:50:30  2024-02-17 13-50-30  02/17/2024 01:50:30 PM   \n",
       "1  24-02-18 14:55:45  2024-02-18 14-55-45  02/18/2024 02:55:45 PM   \n",
       "2  24-02-19 15:30:15  2024-02-19 15-30-15  02/19/2024 03:30:15 AM   \n",
       "3  24-02-20 16:10:50  2024-02-20 16-10-50  02/20/2024 04:10:50 AM   \n",
       "\n",
       "              DateTime4  \n",
       "0  17 Feb 2024 13:50:30  \n",
       "1  18 Feb 2024 14:55:45  \n",
       "2  19 Feb 2024 15:30:15  \n",
       "3  20 Feb 2024 16:10:50  "
      ]
     },
     "execution_count": 3,
     "metadata": {},
     "output_type": "execute_result"
    }
   ],
   "source": [
    "df = pd.DataFrame(data)\n",
    "df.to_csv('date_data.csv', index=False)\n",
    "df"
   ]
  },
  {
   "cell_type": "code",
   "execution_count": 4,
   "metadata": {},
   "outputs": [
    {
     "name": "stdout",
     "output_type": "stream",
     "text": [
      "<class 'pandas.core.frame.DataFrame'>\n",
      "RangeIndex: 4 entries, 0 to 3\n",
      "Data columns (total 9 columns):\n",
      " #   Column     Non-Null Count  Dtype \n",
      "---  ------     --------------  ----- \n",
      " 0   Date1      4 non-null      object\n",
      " 1   Date2      4 non-null      object\n",
      " 2   Date3      4 non-null      object\n",
      " 3   Date4      4 non-null      object\n",
      " 4   Date5      4 non-null      object\n",
      " 5   DateTime1  4 non-null      object\n",
      " 6   DateTime2  4 non-null      object\n",
      " 7   DateTime3  4 non-null      object\n",
      " 8   DateTime4  4 non-null      object\n",
      "dtypes: object(9)\n",
      "memory usage: 420.0+ bytes\n"
     ]
    }
   ],
   "source": [
    "df.info()"
   ]
  },
  {
   "cell_type": "code",
   "execution_count": 20,
   "metadata": {},
   "outputs": [
    {
     "name": "stderr",
     "output_type": "stream",
     "text": [
      "C:\\Users\\ehdgu\\AppData\\Local\\Temp\\ipykernel_8216\\1652690377.py:4: UserWarning: Could not infer format, so each element will be parsed individually, falling back to `dateutil`. To ensure parsing is consistent and as-expected, please specify a format.\n",
      "  df['Date3'] = pd.to_datetime(df['Date3']) # error\n",
      "C:\\Users\\ehdgu\\AppData\\Local\\Temp\\ipykernel_8216\\1652690377.py:7: UserWarning: Could not infer format, so each element will be parsed individually, falling back to `dateutil`. To ensure parsing is consistent and as-expected, please specify a format.\n",
      "  df['DateTime1'] = pd.to_datetime(df['DateTime1']) # error\n",
      "C:\\Users\\ehdgu\\AppData\\Local\\Temp\\ipykernel_8216\\1652690377.py:9: UserWarning: Could not infer format, so each element will be parsed individually, falling back to `dateutil`. To ensure parsing is consistent and as-expected, please specify a format.\n",
      "  df['DateTime3'] = pd.to_datetime(df['DateTime3']) # error\n"
     ]
    },
    {
     "data": {
      "text/html": [
       "<div>\n",
       "<style scoped>\n",
       "    .dataframe tbody tr th:only-of-type {\n",
       "        vertical-align: middle;\n",
       "    }\n",
       "\n",
       "    .dataframe tbody tr th {\n",
       "        vertical-align: top;\n",
       "    }\n",
       "\n",
       "    .dataframe thead th {\n",
       "        text-align: right;\n",
       "    }\n",
       "</style>\n",
       "<table border=\"1\" class=\"dataframe\">\n",
       "  <thead>\n",
       "    <tr style=\"text-align: right;\">\n",
       "      <th></th>\n",
       "      <th>Date1</th>\n",
       "      <th>Date2</th>\n",
       "      <th>Date3</th>\n",
       "      <th>Date4</th>\n",
       "      <th>Date5</th>\n",
       "      <th>DateTime1</th>\n",
       "      <th>DateTime2</th>\n",
       "      <th>DateTime3</th>\n",
       "      <th>DateTime4</th>\n",
       "    </tr>\n",
       "  </thead>\n",
       "  <tbody>\n",
       "    <tr>\n",
       "      <th>0</th>\n",
       "      <td>2024-02-17</td>\n",
       "      <td>2024-02-17</td>\n",
       "      <td>2017-02-24</td>\n",
       "      <td>2024-02-17</td>\n",
       "      <td>2024-02-17</td>\n",
       "      <td>2017-02-24 13:50:30</td>\n",
       "      <td>2024-02-17 13:50:30</td>\n",
       "      <td>2024-02-17 13:50:30</td>\n",
       "      <td>2024-02-17 13:50:30</td>\n",
       "    </tr>\n",
       "    <tr>\n",
       "      <th>1</th>\n",
       "      <td>2024-02-18</td>\n",
       "      <td>2024-02-18</td>\n",
       "      <td>2018-02-24</td>\n",
       "      <td>2024-02-18</td>\n",
       "      <td>2024-02-18</td>\n",
       "      <td>2018-02-24 14:55:45</td>\n",
       "      <td>2024-02-18 14:55:45</td>\n",
       "      <td>2024-02-18 14:55:45</td>\n",
       "      <td>2024-02-18 14:55:45</td>\n",
       "    </tr>\n",
       "    <tr>\n",
       "      <th>2</th>\n",
       "      <td>2024-02-19</td>\n",
       "      <td>2024-02-19</td>\n",
       "      <td>2019-02-24</td>\n",
       "      <td>2024-02-19</td>\n",
       "      <td>2024-02-19</td>\n",
       "      <td>2019-02-24 15:30:15</td>\n",
       "      <td>2024-02-19 15:30:15</td>\n",
       "      <td>2024-02-19 03:30:15</td>\n",
       "      <td>2024-02-19 15:30:15</td>\n",
       "    </tr>\n",
       "    <tr>\n",
       "      <th>3</th>\n",
       "      <td>2024-02-20</td>\n",
       "      <td>2024-02-20</td>\n",
       "      <td>2020-02-24</td>\n",
       "      <td>2024-02-20</td>\n",
       "      <td>2024-02-20</td>\n",
       "      <td>2020-02-24 16:10:50</td>\n",
       "      <td>2024-02-20 16:10:50</td>\n",
       "      <td>2024-02-20 04:10:50</td>\n",
       "      <td>2024-02-20 16:10:50</td>\n",
       "    </tr>\n",
       "  </tbody>\n",
       "</table>\n",
       "</div>"
      ],
      "text/plain": [
       "       Date1      Date2      Date3      Date4      Date5           DateTime1  \\\n",
       "0 2024-02-17 2024-02-17 2017-02-24 2024-02-17 2024-02-17 2017-02-24 13:50:30   \n",
       "1 2024-02-18 2024-02-18 2018-02-24 2024-02-18 2024-02-18 2018-02-24 14:55:45   \n",
       "2 2024-02-19 2024-02-19 2019-02-24 2024-02-19 2024-02-19 2019-02-24 15:30:15   \n",
       "3 2024-02-20 2024-02-20 2020-02-24 2024-02-20 2024-02-20 2020-02-24 16:10:50   \n",
       "\n",
       "            DateTime2           DateTime3           DateTime4  \n",
       "0 2024-02-17 13:50:30 2024-02-17 13:50:30 2024-02-17 13:50:30  \n",
       "1 2024-02-18 14:55:45 2024-02-18 14:55:45 2024-02-18 14:55:45  \n",
       "2 2024-02-19 15:30:15 2024-02-19 03:30:15 2024-02-19 15:30:15  \n",
       "3 2024-02-20 16:10:50 2024-02-20 04:10:50 2024-02-20 16:10:50  "
      ]
     },
     "execution_count": 20,
     "metadata": {},
     "output_type": "execute_result"
    }
   ],
   "source": [
    "df = pd.read_csv('date_data.csv')\n",
    "df['Date1'] = pd.to_datetime(df['Date1'])\n",
    "df['Date2'] = pd.to_datetime(df['Date2'], format='%Y:%m:%d') # error\n",
    "df['Date3'] = pd.to_datetime(df['Date3']) # error\n",
    "df['Date4'] = pd.to_datetime(df['Date4'])\n",
    "df['Date5'] = pd.to_datetime(df['Date5'])\n",
    "df['DateTime1'] = pd.to_datetime(df['DateTime1']) # error\n",
    "df['DateTime2'] = pd.to_datetime(df['DateTime2'], format='%Y-%m-%d %H-%M-%S') # error\n",
    "df['DateTime3'] = pd.to_datetime(df['DateTime3']) # error\n",
    "df['DateTime4'] = pd.to_datetime(df['DateTime4'])\n",
    "df"
   ]
  },
  {
   "cell_type": "code",
   "execution_count": 21,
   "metadata": {},
   "outputs": [
    {
     "name": "stderr",
     "output_type": "stream",
     "text": [
      "C:\\Users\\ehdgu\\AppData\\Local\\Temp\\ipykernel_8216\\2537547879.py:9: UserWarning: Could not infer format, so each element will be parsed individually, falling back to `dateutil`. To ensure parsing is consistent and as-expected, please specify a format.\n",
      "  df['DateTime3'] = pd.to_datetime(df['DateTime3'])\n"
     ]
    },
    {
     "data": {
      "text/html": [
       "<div>\n",
       "<style scoped>\n",
       "    .dataframe tbody tr th:only-of-type {\n",
       "        vertical-align: middle;\n",
       "    }\n",
       "\n",
       "    .dataframe tbody tr th {\n",
       "        vertical-align: top;\n",
       "    }\n",
       "\n",
       "    .dataframe thead th {\n",
       "        text-align: right;\n",
       "    }\n",
       "</style>\n",
       "<table border=\"1\" class=\"dataframe\">\n",
       "  <thead>\n",
       "    <tr style=\"text-align: right;\">\n",
       "      <th></th>\n",
       "      <th>Date1</th>\n",
       "      <th>Date2</th>\n",
       "      <th>Date3</th>\n",
       "      <th>Date4</th>\n",
       "      <th>Date5</th>\n",
       "      <th>DateTime1</th>\n",
       "      <th>DateTime2</th>\n",
       "      <th>DateTime3</th>\n",
       "      <th>DateTime4</th>\n",
       "    </tr>\n",
       "  </thead>\n",
       "  <tbody>\n",
       "    <tr>\n",
       "      <th>0</th>\n",
       "      <td>2024-02-17</td>\n",
       "      <td>2024-02-17</td>\n",
       "      <td>2024-02-17</td>\n",
       "      <td>2024-02-17</td>\n",
       "      <td>2024-02-17</td>\n",
       "      <td>2024-02-17 13:50:30</td>\n",
       "      <td>2024-02-17 13:50:30</td>\n",
       "      <td>2024-02-17 13:50:30</td>\n",
       "      <td>2024-02-17 13:50:30</td>\n",
       "    </tr>\n",
       "    <tr>\n",
       "      <th>1</th>\n",
       "      <td>2024-02-18</td>\n",
       "      <td>2024-02-18</td>\n",
       "      <td>2024-02-18</td>\n",
       "      <td>2024-02-18</td>\n",
       "      <td>2024-02-18</td>\n",
       "      <td>2024-02-18 14:55:45</td>\n",
       "      <td>2024-02-18 14:55:45</td>\n",
       "      <td>2024-02-18 14:55:45</td>\n",
       "      <td>2024-02-18 14:55:45</td>\n",
       "    </tr>\n",
       "    <tr>\n",
       "      <th>2</th>\n",
       "      <td>2024-02-19</td>\n",
       "      <td>2024-02-19</td>\n",
       "      <td>2024-02-19</td>\n",
       "      <td>2024-02-19</td>\n",
       "      <td>2024-02-19</td>\n",
       "      <td>2024-02-19 15:30:15</td>\n",
       "      <td>2024-02-19 15:30:15</td>\n",
       "      <td>2024-02-19 03:30:15</td>\n",
       "      <td>2024-02-19 15:30:15</td>\n",
       "    </tr>\n",
       "    <tr>\n",
       "      <th>3</th>\n",
       "      <td>2024-02-20</td>\n",
       "      <td>2024-02-20</td>\n",
       "      <td>2024-02-20</td>\n",
       "      <td>2024-02-20</td>\n",
       "      <td>2024-02-20</td>\n",
       "      <td>2024-02-20 16:10:50</td>\n",
       "      <td>2024-02-20 16:10:50</td>\n",
       "      <td>2024-02-20 04:10:50</td>\n",
       "      <td>2024-02-20 16:10:50</td>\n",
       "    </tr>\n",
       "  </tbody>\n",
       "</table>\n",
       "</div>"
      ],
      "text/plain": [
       "       Date1      Date2      Date3      Date4      Date5           DateTime1  \\\n",
       "0 2024-02-17 2024-02-17 2024-02-17 2024-02-17 2024-02-17 2024-02-17 13:50:30   \n",
       "1 2024-02-18 2024-02-18 2024-02-18 2024-02-18 2024-02-18 2024-02-18 14:55:45   \n",
       "2 2024-02-19 2024-02-19 2024-02-19 2024-02-19 2024-02-19 2024-02-19 15:30:15   \n",
       "3 2024-02-20 2024-02-20 2024-02-20 2024-02-20 2024-02-20 2024-02-20 16:10:50   \n",
       "\n",
       "            DateTime2           DateTime3           DateTime4  \n",
       "0 2024-02-17 13:50:30 2024-02-17 13:50:30 2024-02-17 13:50:30  \n",
       "1 2024-02-18 14:55:45 2024-02-18 14:55:45 2024-02-18 14:55:45  \n",
       "2 2024-02-19 15:30:15 2024-02-19 03:30:15 2024-02-19 15:30:15  \n",
       "3 2024-02-20 16:10:50 2024-02-20 04:10:50 2024-02-20 16:10:50  "
      ]
     },
     "execution_count": 21,
     "metadata": {},
     "output_type": "execute_result"
    }
   ],
   "source": [
    "df = pd.read_csv('date_data.csv')\n",
    "df['Date1'] = pd.to_datetime(df['Date1'])\n",
    "df['Date2'] = pd.to_datetime(df['Date2'], format='%Y:%m:%d')\n",
    "df['Date3'] = pd.to_datetime(df['Date3'], format='%y/%m/%d')\n",
    "df['Date4'] = pd.to_datetime(df['Date4'])\n",
    "df['Date5'] = pd.to_datetime(df['Date5'])\n",
    "df['DateTime1'] = pd.to_datetime(df['DateTime1'], format='%y-%m-%d %H:%M:%S')\n",
    "df['DateTime2'] = pd.to_datetime(df['DateTime2'], format='%Y-%m-%d %H-%M-%S')\n",
    "df['DateTime3'] = pd.to_datetime(df['DateTime3'])\n",
    "df['DateTime4'] = pd.to_datetime(df['DateTime4'])\n",
    "df"
   ]
  },
  {
   "cell_type": "code",
   "execution_count": 22,
   "metadata": {},
   "outputs": [
    {
     "name": "stdout",
     "output_type": "stream",
     "text": [
      "<class 'pandas.core.frame.DataFrame'>\n",
      "RangeIndex: 4 entries, 0 to 3\n",
      "Data columns (total 9 columns):\n",
      " #   Column     Non-Null Count  Dtype         \n",
      "---  ------     --------------  -----         \n",
      " 0   Date1      4 non-null      datetime64[ns]\n",
      " 1   Date2      4 non-null      datetime64[ns]\n",
      " 2   Date3      4 non-null      datetime64[ns]\n",
      " 3   Date4      4 non-null      datetime64[ns]\n",
      " 4   Date5      4 non-null      datetime64[ns]\n",
      " 5   DateTime1  4 non-null      datetime64[ns]\n",
      " 6   DateTime2  4 non-null      datetime64[ns]\n",
      " 7   DateTime3  4 non-null      datetime64[ns]\n",
      " 8   DateTime4  4 non-null      datetime64[ns]\n",
      "dtypes: datetime64[ns](9)\n",
      "memory usage: 420.0 bytes\n"
     ]
    }
   ],
   "source": [
    "df.info()"
   ]
  },
  {
   "cell_type": "markdown",
   "metadata": {},
   "source": [
    "날짜와 시간 데이터 분할"
   ]
  },
  {
   "cell_type": "code",
   "execution_count": 24,
   "metadata": {},
   "outputs": [
    {
     "data": {
      "text/html": [
       "<div>\n",
       "<style scoped>\n",
       "    .dataframe tbody tr th:only-of-type {\n",
       "        vertical-align: middle;\n",
       "    }\n",
       "\n",
       "    .dataframe tbody tr th {\n",
       "        vertical-align: top;\n",
       "    }\n",
       "\n",
       "    .dataframe thead th {\n",
       "        text-align: right;\n",
       "    }\n",
       "</style>\n",
       "<table border=\"1\" class=\"dataframe\">\n",
       "  <thead>\n",
       "    <tr style=\"text-align: right;\">\n",
       "      <th></th>\n",
       "      <th>Date1</th>\n",
       "      <th>Date2</th>\n",
       "      <th>Date3</th>\n",
       "      <th>Date4</th>\n",
       "      <th>Date5</th>\n",
       "      <th>DateTime1</th>\n",
       "      <th>DateTime2</th>\n",
       "      <th>DateTime3</th>\n",
       "      <th>DateTime4</th>\n",
       "      <th>year</th>\n",
       "      <th>month</th>\n",
       "      <th>day</th>\n",
       "      <th>hour</th>\n",
       "      <th>minute</th>\n",
       "      <th>second</th>\n",
       "    </tr>\n",
       "  </thead>\n",
       "  <tbody>\n",
       "    <tr>\n",
       "      <th>0</th>\n",
       "      <td>2024-02-17</td>\n",
       "      <td>2024-02-17</td>\n",
       "      <td>2024-02-17</td>\n",
       "      <td>2024-02-17</td>\n",
       "      <td>2024-02-17</td>\n",
       "      <td>2024-02-17 13:50:30</td>\n",
       "      <td>2024-02-17 13:50:30</td>\n",
       "      <td>2024-02-17 13:50:30</td>\n",
       "      <td>2024-02-17 13:50:30</td>\n",
       "      <td>2024</td>\n",
       "      <td>2</td>\n",
       "      <td>17</td>\n",
       "      <td>13</td>\n",
       "      <td>50</td>\n",
       "      <td>30</td>\n",
       "    </tr>\n",
       "    <tr>\n",
       "      <th>1</th>\n",
       "      <td>2024-02-18</td>\n",
       "      <td>2024-02-18</td>\n",
       "      <td>2024-02-18</td>\n",
       "      <td>2024-02-18</td>\n",
       "      <td>2024-02-18</td>\n",
       "      <td>2024-02-18 14:55:45</td>\n",
       "      <td>2024-02-18 14:55:45</td>\n",
       "      <td>2024-02-18 14:55:45</td>\n",
       "      <td>2024-02-18 14:55:45</td>\n",
       "      <td>2024</td>\n",
       "      <td>2</td>\n",
       "      <td>18</td>\n",
       "      <td>14</td>\n",
       "      <td>55</td>\n",
       "      <td>45</td>\n",
       "    </tr>\n",
       "    <tr>\n",
       "      <th>2</th>\n",
       "      <td>2024-02-19</td>\n",
       "      <td>2024-02-19</td>\n",
       "      <td>2024-02-19</td>\n",
       "      <td>2024-02-19</td>\n",
       "      <td>2024-02-19</td>\n",
       "      <td>2024-02-19 15:30:15</td>\n",
       "      <td>2024-02-19 15:30:15</td>\n",
       "      <td>2024-02-19 03:30:15</td>\n",
       "      <td>2024-02-19 15:30:15</td>\n",
       "      <td>2024</td>\n",
       "      <td>2</td>\n",
       "      <td>19</td>\n",
       "      <td>15</td>\n",
       "      <td>30</td>\n",
       "      <td>15</td>\n",
       "    </tr>\n",
       "    <tr>\n",
       "      <th>3</th>\n",
       "      <td>2024-02-20</td>\n",
       "      <td>2024-02-20</td>\n",
       "      <td>2024-02-20</td>\n",
       "      <td>2024-02-20</td>\n",
       "      <td>2024-02-20</td>\n",
       "      <td>2024-02-20 16:10:50</td>\n",
       "      <td>2024-02-20 16:10:50</td>\n",
       "      <td>2024-02-20 04:10:50</td>\n",
       "      <td>2024-02-20 16:10:50</td>\n",
       "      <td>2024</td>\n",
       "      <td>2</td>\n",
       "      <td>20</td>\n",
       "      <td>16</td>\n",
       "      <td>10</td>\n",
       "      <td>50</td>\n",
       "    </tr>\n",
       "  </tbody>\n",
       "</table>\n",
       "</div>"
      ],
      "text/plain": [
       "       Date1      Date2      Date3      Date4      Date5           DateTime1  \\\n",
       "0 2024-02-17 2024-02-17 2024-02-17 2024-02-17 2024-02-17 2024-02-17 13:50:30   \n",
       "1 2024-02-18 2024-02-18 2024-02-18 2024-02-18 2024-02-18 2024-02-18 14:55:45   \n",
       "2 2024-02-19 2024-02-19 2024-02-19 2024-02-19 2024-02-19 2024-02-19 15:30:15   \n",
       "3 2024-02-20 2024-02-20 2024-02-20 2024-02-20 2024-02-20 2024-02-20 16:10:50   \n",
       "\n",
       "            DateTime2           DateTime3           DateTime4  year  month  \\\n",
       "0 2024-02-17 13:50:30 2024-02-17 13:50:30 2024-02-17 13:50:30  2024      2   \n",
       "1 2024-02-18 14:55:45 2024-02-18 14:55:45 2024-02-18 14:55:45  2024      2   \n",
       "2 2024-02-19 15:30:15 2024-02-19 03:30:15 2024-02-19 15:30:15  2024      2   \n",
       "3 2024-02-20 16:10:50 2024-02-20 04:10:50 2024-02-20 16:10:50  2024      2   \n",
       "\n",
       "   day  hour  minute  second  \n",
       "0   17    13      50      30  \n",
       "1   18    14      55      45  \n",
       "2   19    15      30      15  \n",
       "3   20    16      10      50  "
      ]
     },
     "execution_count": 24,
     "metadata": {},
     "output_type": "execute_result"
    }
   ],
   "source": [
    "df['year'] = df['DateTime1'].dt.year\n",
    "df['month'] = df['DateTime1'].dt.month\n",
    "df['day'] = df['DateTime1'].dt.day\n",
    "df['hour'] = df['DateTime1'].dt.hour\n",
    "df['minute'] = df['DateTime1'].dt.minute\n",
    "df['second'] = df['DateTime1'].dt.second\n",
    "df\n"
   ]
  },
  {
   "cell_type": "markdown",
   "metadata": {},
   "source": [
    "요일 찾기"
   ]
  },
  {
   "cell_type": "code",
   "execution_count": 25,
   "metadata": {},
   "outputs": [
    {
     "data": {
      "text/plain": [
       "0    5\n",
       "1    6\n",
       "2    0\n",
       "3    1\n",
       "Name: DateTime1, dtype: int32"
      ]
     },
     "execution_count": 25,
     "metadata": {},
     "output_type": "execute_result"
    }
   ],
   "source": [
    "df['DateTime1'].dt.dayofweek"
   ]
  },
  {
   "cell_type": "markdown",
   "metadata": {},
   "source": [
    "특정 시점과 특정 구간"
   ]
  },
  {
   "cell_type": "code",
   "execution_count": 27,
   "metadata": {},
   "outputs": [
    {
     "name": "stdout",
     "output_type": "stream",
     "text": [
      "0    2024\n",
      "1    2024\n",
      "2    2024\n",
      "3    2024\n",
      "Name: DateTime1, dtype: period[Y-DEC]\n",
      "0    2024Q1\n",
      "1    2024Q1\n",
      "2    2024Q1\n",
      "3    2024Q1\n",
      "Name: DateTime1, dtype: period[Q-DEC]\n",
      "0    2024-02\n",
      "1    2024-02\n",
      "2    2024-02\n",
      "3    2024-02\n",
      "Name: DateTime1, dtype: period[M]\n",
      "0    2024-02-17\n",
      "1    2024-02-18\n",
      "2    2024-02-19\n",
      "3    2024-02-20\n",
      "Name: DateTime1, dtype: period[D]\n",
      "0    2024-02-17 13:00\n",
      "1    2024-02-18 14:00\n",
      "2    2024-02-19 15:00\n",
      "3    2024-02-20 16:00\n",
      "Name: DateTime1, dtype: period[h]\n"
     ]
    }
   ],
   "source": [
    "print(df['DateTime1'].dt.to_period('Y'))\n",
    "print(df['DateTime1'].dt.to_period('Q'))\n",
    "print(df['DateTime1'].dt.to_period('M'))\n",
    "print(df['DateTime1'].dt.to_period('D'))\n",
    "print(df['DateTime1'].dt.to_period('h'))\n"
   ]
  },
  {
   "cell_type": "markdown",
   "metadata": {},
   "source": [
    "Timedelta"
   ]
  },
  {
   "cell_type": "code",
   "execution_count": 30,
   "metadata": {},
   "outputs": [
    {
     "data": {
      "text/html": [
       "<div>\n",
       "<style scoped>\n",
       "    .dataframe tbody tr th:only-of-type {\n",
       "        vertical-align: middle;\n",
       "    }\n",
       "\n",
       "    .dataframe tbody tr th {\n",
       "        vertical-align: top;\n",
       "    }\n",
       "\n",
       "    .dataframe thead th {\n",
       "        text-align: right;\n",
       "    }\n",
       "</style>\n",
       "<table border=\"1\" class=\"dataframe\">\n",
       "  <thead>\n",
       "    <tr style=\"text-align: right;\">\n",
       "      <th></th>\n",
       "      <th>DateTime4</th>\n",
       "    </tr>\n",
       "  </thead>\n",
       "  <tbody>\n",
       "    <tr>\n",
       "      <th>0</th>\n",
       "      <td>2024-02-17 13:50:30</td>\n",
       "    </tr>\n",
       "    <tr>\n",
       "      <th>1</th>\n",
       "      <td>2024-02-18 14:55:45</td>\n",
       "    </tr>\n",
       "    <tr>\n",
       "      <th>2</th>\n",
       "      <td>2024-02-19 15:30:15</td>\n",
       "    </tr>\n",
       "    <tr>\n",
       "      <th>3</th>\n",
       "      <td>2024-02-20 16:10:50</td>\n",
       "    </tr>\n",
       "  </tbody>\n",
       "</table>\n",
       "</div>"
      ],
      "text/plain": [
       "            DateTime4\n",
       "0 2024-02-17 13:50:30\n",
       "1 2024-02-18 14:55:45\n",
       "2 2024-02-19 15:30:15\n",
       "3 2024-02-20 16:10:50"
      ]
     },
     "execution_count": 30,
     "metadata": {},
     "output_type": "execute_result"
    }
   ],
   "source": [
    "df = pd.read_csv('date_data.csv', usecols=['DateTime4'], parse_dates = ['DateTime4'])\n",
    "df"
   ]
  },
  {
   "cell_type": "markdown",
   "metadata": {},
   "source": [
    "특정 시간과의 차이"
   ]
  },
  {
   "cell_type": "code",
   "execution_count": 31,
   "metadata": {},
   "outputs": [
    {
     "data": {
      "text/html": [
       "<div>\n",
       "<style scoped>\n",
       "    .dataframe tbody tr th:only-of-type {\n",
       "        vertical-align: middle;\n",
       "    }\n",
       "\n",
       "    .dataframe tbody tr th {\n",
       "        vertical-align: top;\n",
       "    }\n",
       "\n",
       "    .dataframe thead th {\n",
       "        text-align: right;\n",
       "    }\n",
       "</style>\n",
       "<table border=\"1\" class=\"dataframe\">\n",
       "  <thead>\n",
       "    <tr style=\"text-align: right;\">\n",
       "      <th></th>\n",
       "      <th>DateTime4</th>\n",
       "      <th>100day</th>\n",
       "    </tr>\n",
       "  </thead>\n",
       "  <tbody>\n",
       "    <tr>\n",
       "      <th>0</th>\n",
       "      <td>2024-02-17 13:50:30</td>\n",
       "      <td>2024-05-26 13:50:30</td>\n",
       "    </tr>\n",
       "    <tr>\n",
       "      <th>1</th>\n",
       "      <td>2024-02-18 14:55:45</td>\n",
       "      <td>2024-05-27 14:55:45</td>\n",
       "    </tr>\n",
       "    <tr>\n",
       "      <th>2</th>\n",
       "      <td>2024-02-19 15:30:15</td>\n",
       "      <td>2024-05-28 15:30:15</td>\n",
       "    </tr>\n",
       "    <tr>\n",
       "      <th>3</th>\n",
       "      <td>2024-02-20 16:10:50</td>\n",
       "      <td>2024-05-29 16:10:50</td>\n",
       "    </tr>\n",
       "  </tbody>\n",
       "</table>\n",
       "</div>"
      ],
      "text/plain": [
       "            DateTime4              100day\n",
       "0 2024-02-17 13:50:30 2024-05-26 13:50:30\n",
       "1 2024-02-18 14:55:45 2024-05-27 14:55:45\n",
       "2 2024-02-19 15:30:15 2024-05-28 15:30:15\n",
       "3 2024-02-20 16:10:50 2024-05-29 16:10:50"
      ]
     },
     "execution_count": 31,
     "metadata": {},
     "output_type": "execute_result"
    }
   ],
   "source": [
    "df['100day'] = df['DateTime4']+pd.Timedelta(days=99)\n",
    "df"
   ]
  },
  {
   "cell_type": "code",
   "execution_count": 32,
   "metadata": {},
   "outputs": [
    {
     "data": {
      "text/html": [
       "<div>\n",
       "<style scoped>\n",
       "    .dataframe tbody tr th:only-of-type {\n",
       "        vertical-align: middle;\n",
       "    }\n",
       "\n",
       "    .dataframe tbody tr th {\n",
       "        vertical-align: top;\n",
       "    }\n",
       "\n",
       "    .dataframe thead th {\n",
       "        text-align: right;\n",
       "    }\n",
       "</style>\n",
       "<table border=\"1\" class=\"dataframe\">\n",
       "  <thead>\n",
       "    <tr style=\"text-align: right;\">\n",
       "      <th></th>\n",
       "      <th>DateTime4</th>\n",
       "      <th>100day</th>\n",
       "      <th>100hour</th>\n",
       "    </tr>\n",
       "  </thead>\n",
       "  <tbody>\n",
       "    <tr>\n",
       "      <th>0</th>\n",
       "      <td>2024-02-17 13:50:30</td>\n",
       "      <td>2024-05-26 13:50:30</td>\n",
       "      <td>2024-02-21 16:50:30</td>\n",
       "    </tr>\n",
       "    <tr>\n",
       "      <th>1</th>\n",
       "      <td>2024-02-18 14:55:45</td>\n",
       "      <td>2024-05-27 14:55:45</td>\n",
       "      <td>2024-02-22 17:55:45</td>\n",
       "    </tr>\n",
       "    <tr>\n",
       "      <th>2</th>\n",
       "      <td>2024-02-19 15:30:15</td>\n",
       "      <td>2024-05-28 15:30:15</td>\n",
       "      <td>2024-02-23 18:30:15</td>\n",
       "    </tr>\n",
       "    <tr>\n",
       "      <th>3</th>\n",
       "      <td>2024-02-20 16:10:50</td>\n",
       "      <td>2024-05-29 16:10:50</td>\n",
       "      <td>2024-02-24 19:10:50</td>\n",
       "    </tr>\n",
       "  </tbody>\n",
       "</table>\n",
       "</div>"
      ],
      "text/plain": [
       "            DateTime4              100day             100hour\n",
       "0 2024-02-17 13:50:30 2024-05-26 13:50:30 2024-02-21 16:50:30\n",
       "1 2024-02-18 14:55:45 2024-05-27 14:55:45 2024-02-22 17:55:45\n",
       "2 2024-02-19 15:30:15 2024-05-28 15:30:15 2024-02-23 18:30:15\n",
       "3 2024-02-20 16:10:50 2024-05-29 16:10:50 2024-02-24 19:10:50"
      ]
     },
     "execution_count": 32,
     "metadata": {},
     "output_type": "execute_result"
    }
   ],
   "source": [
    "df['100hour'] = df['DateTime4']+pd.Timedelta(hours=99)\n",
    "df"
   ]
  },
  {
   "cell_type": "code",
   "execution_count": 33,
   "metadata": {},
   "outputs": [
    {
     "data": {
      "text/html": [
       "<div>\n",
       "<style scoped>\n",
       "    .dataframe tbody tr th:only-of-type {\n",
       "        vertical-align: middle;\n",
       "    }\n",
       "\n",
       "    .dataframe tbody tr th {\n",
       "        vertical-align: top;\n",
       "    }\n",
       "\n",
       "    .dataframe thead th {\n",
       "        text-align: right;\n",
       "    }\n",
       "</style>\n",
       "<table border=\"1\" class=\"dataframe\">\n",
       "  <thead>\n",
       "    <tr style=\"text-align: right;\">\n",
       "      <th></th>\n",
       "      <th>DateTime4</th>\n",
       "      <th>100day</th>\n",
       "      <th>100hour</th>\n",
       "      <th>difference</th>\n",
       "    </tr>\n",
       "  </thead>\n",
       "  <tbody>\n",
       "    <tr>\n",
       "      <th>0</th>\n",
       "      <td>2024-02-17 13:50:30</td>\n",
       "      <td>2024-05-26 13:50:30</td>\n",
       "      <td>2024-02-21 16:50:30</td>\n",
       "      <td>2023-12-23 06:43:23</td>\n",
       "    </tr>\n",
       "    <tr>\n",
       "      <th>1</th>\n",
       "      <td>2024-02-18 14:55:45</td>\n",
       "      <td>2024-05-27 14:55:45</td>\n",
       "      <td>2024-02-22 17:55:45</td>\n",
       "      <td>2023-12-24 07:48:38</td>\n",
       "    </tr>\n",
       "    <tr>\n",
       "      <th>2</th>\n",
       "      <td>2024-02-19 15:30:15</td>\n",
       "      <td>2024-05-28 15:30:15</td>\n",
       "      <td>2024-02-23 18:30:15</td>\n",
       "      <td>2023-12-25 08:23:08</td>\n",
       "    </tr>\n",
       "    <tr>\n",
       "      <th>3</th>\n",
       "      <td>2024-02-20 16:10:50</td>\n",
       "      <td>2024-05-29 16:10:50</td>\n",
       "      <td>2024-02-24 19:10:50</td>\n",
       "      <td>2023-12-26 09:03:43</td>\n",
       "    </tr>\n",
       "  </tbody>\n",
       "</table>\n",
       "</div>"
      ],
      "text/plain": [
       "            DateTime4              100day             100hour  \\\n",
       "0 2024-02-17 13:50:30 2024-05-26 13:50:30 2024-02-21 16:50:30   \n",
       "1 2024-02-18 14:55:45 2024-05-27 14:55:45 2024-02-22 17:55:45   \n",
       "2 2024-02-19 15:30:15 2024-05-28 15:30:15 2024-02-23 18:30:15   \n",
       "3 2024-02-20 16:10:50 2024-05-29 16:10:50 2024-02-24 19:10:50   \n",
       "\n",
       "           difference  \n",
       "0 2023-12-23 06:43:23  \n",
       "1 2023-12-24 07:48:38  \n",
       "2 2023-12-25 08:23:08  \n",
       "3 2023-12-26 09:03:43  "
      ]
     },
     "execution_count": 33,
     "metadata": {},
     "output_type": "execute_result"
    }
   ],
   "source": [
    "df['difference'] = df['DateTime4']-pd.Timedelta(weeks=7, days=7, hours=7, minutes=7, seconds=7)\n",
    "df"
   ]
  },
  {
   "cell_type": "markdown",
   "metadata": {},
   "source": [
    "두 시간 사이의 차이"
   ]
  },
  {
   "cell_type": "code",
   "execution_count": 34,
   "metadata": {},
   "outputs": [
    {
     "data": {
      "text/plain": [
       "0   60 days 10:07:07\n",
       "1   60 days 10:07:07\n",
       "2   60 days 10:07:07\n",
       "3   60 days 10:07:07\n",
       "dtype: timedelta64[ns]"
      ]
     },
     "execution_count": 34,
     "metadata": {},
     "output_type": "execute_result"
    }
   ],
   "source": [
    "diff = df['100hour'] - df['difference']\n",
    "diff"
   ]
  },
  {
   "cell_type": "code",
   "execution_count": 35,
   "metadata": {},
   "outputs": [
    {
     "name": "stdout",
     "output_type": "stream",
     "text": [
      "0    5220427.0\n",
      "1    5220427.0\n",
      "2    5220427.0\n",
      "3    5220427.0\n",
      "dtype: float64\n",
      "0    87007.116667\n",
      "1    87007.116667\n",
      "2    87007.116667\n",
      "3    87007.116667\n",
      "dtype: float64\n",
      "0    1450.118611\n",
      "1    1450.118611\n",
      "2    1450.118611\n",
      "3    1450.118611\n",
      "dtype: float64\n",
      "0    60.421609\n",
      "1    60.421609\n",
      "2    60.421609\n",
      "3    60.421609\n",
      "dtype: float64\n"
     ]
    }
   ],
   "source": [
    "print(diff.dt.total_seconds()) # 초\n",
    "print(diff.dt.total_seconds()/60) # 분\n",
    "print(diff.dt.total_seconds()/60/60) # 시간\n",
    "print(diff.dt.total_seconds()/60/60/24) # 일"
   ]
  },
  {
   "cell_type": "markdown",
   "metadata": {},
   "source": [
    "Timedelta의 dt 속성"
   ]
  },
  {
   "cell_type": "code",
   "execution_count": 36,
   "metadata": {},
   "outputs": [
    {
     "name": "stdout",
     "output_type": "stream",
     "text": [
      "0    60\n",
      "1    60\n",
      "2    60\n",
      "3    60\n",
      "dtype: int64\n",
      "0    36427\n",
      "1    36427\n",
      "2    36427\n",
      "3    36427\n",
      "dtype: int32\n"
     ]
    }
   ],
   "source": [
    "print(diff.dt.days)\n",
    "print(diff.dt.seconds)"
   ]
  }
 ],
 "metadata": {
  "kernelspec": {
   "display_name": "workspace",
   "language": "python",
   "name": "python3"
  },
  "language_info": {
   "codemirror_mode": {
    "name": "ipython",
    "version": 3
   },
   "file_extension": ".py",
   "mimetype": "text/x-python",
   "name": "python",
   "nbconvert_exporter": "python",
   "pygments_lexer": "ipython3",
   "version": "3.12.3"
  }
 },
 "nbformat": 4,
 "nbformat_minor": 2
}
